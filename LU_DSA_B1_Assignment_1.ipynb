{
  "nbformat": 4,
  "nbformat_minor": 0,
  "metadata": {
    "colab": {
      "name": "LU DSA B1 Assignment 1",
      "provenance": [],
      "authorship_tag": "ABX9TyPPcBtZdl3OrK0G3bJdhw3Y",
      "include_colab_link": true
    },
    "kernelspec": {
      "name": "python3",
      "display_name": "Python 3"
    }
  },
  "cells": [
    {
      "cell_type": "markdown",
      "metadata": {
        "id": "view-in-github",
        "colab_type": "text"
      },
      "source": [
        "<a href=\"https://colab.research.google.com/github/vinayvura/DSA-LU-B1-Assignments/blob/main/LU_DSA_B1_Assignment_1.ipynb\" target=\"_parent\"><img src=\"https://colab.research.google.com/assets/colab-badge.svg\" alt=\"Open In Colab\"/></a>"
      ]
    },
    {
      "cell_type": "code",
      "metadata": {
        "colab": {
          "base_uri": "https://localhost:8080/"
        },
        "id": "hSxBnqZ_bBDz",
        "outputId": "713ef985-aacc-4abf-8fdc-cdb6fd76ecc5"
      },
      "source": [
        "X = int(input('Enter the value of X :'))\r\n",
        "Y = int(input('Enter the value of Y :'))\r\n",
        "Z = X ** Y\r\n",
        "\r\n",
        "print(Z)"
      ],
      "execution_count": 1,
      "outputs": [
        {
          "output_type": "stream",
          "text": [
            "Enter the value of X :2\n",
            "Enter the value of Y :2\n",
            "4\n"
          ],
          "name": "stdout"
        }
      ]
    },
    {
      "cell_type": "code",
      "metadata": {
        "colab": {
          "base_uri": "https://localhost:8080/"
        },
        "id": "eLnmrCoabMBE",
        "outputId": "e923a65f-fa13-4254-d166-b7b59842ab32"
      },
      "source": [
        "lower = int(input('Enter the value of lower limit :'))\r\n",
        "upper = int(input('Enter the value of upper limit :'))\r\n",
        "\r\n",
        "for i in range(lower, upper+1):\r\n",
        "    if(i%3==0):\r\n",
        "        print(i)\r\n"
      ],
      "execution_count": 2,
      "outputs": [
        {
          "output_type": "stream",
          "text": [
            "Enter the value of lower limit :0\n",
            "Enter the value of upper limit :100\n",
            "0\n",
            "3\n",
            "6\n",
            "9\n",
            "12\n",
            "15\n",
            "18\n",
            "21\n",
            "24\n",
            "27\n",
            "30\n",
            "33\n",
            "36\n",
            "39\n",
            "42\n",
            "45\n",
            "48\n",
            "51\n",
            "54\n",
            "57\n",
            "60\n",
            "63\n",
            "66\n",
            "69\n",
            "72\n",
            "75\n",
            "78\n",
            "81\n",
            "84\n",
            "87\n",
            "90\n",
            "93\n",
            "96\n",
            "99\n"
          ],
          "name": "stdout"
        }
      ]
    }
  ]
}